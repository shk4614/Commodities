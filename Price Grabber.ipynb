{
 "cells": [
  {
   "cell_type": "code",
   "execution_count": 96,
   "metadata": {},
   "outputs": [
    {
     "name": "stdout",
     "output_type": "stream",
     "text": [
      "Which product contract settle prices do you need? eg. NG, CL, QA ARGUS and PLATTS contracts no longer avail :  cl\n",
      "How many years worth of data do you want? (Max 10) : 10\n"
     ]
    }
   ],
   "source": [
    "#import necessary libraries\n",
    "import requests\n",
    "from bs4 import BeautifulSoup\n",
    "import json\n",
    "import pandas as pd\n",
    "from datetime import datetime\n",
    "from dateutil.relativedelta import relativedelta\n",
    "\n",
    "#ask user for product type can be any NYMEX contract\n",
    "product = input('Which product contract settle prices do you need? eg. NG, CL, QA ARGUS and PLATTS contracts no longer avail :  ')\n",
    "product = product.upper()\n",
    "\n",
    "years = input('How many years worth of data do you want? (Max 10) : ')\n",
    "years = int(years)\n",
    "\n",
    "#set user type headers for request\n",
    "headers = {'User-Agent': 'Mozilla/5.0 (Windows NT 10.0; Win64; x64) AppleWebKit/537.36 (KHTML, like Gecko) Chrome/86.0.4240.75 Safari/537.36'}\n",
    "\n",
    "#create list to store historical data\n",
    "historical =[]\n",
    "\n",
    "#months list needs to be initialized manually for current year contracts that have settled to date\n",
    "#this can be improved to be automatically created, being lazy\n",
    "months = ['G22', 'F22']\n",
    "\n",
    "#month codes used across all NYMEX controcts (Z - December, X - November, etc.)\n",
    "codes = ['Z', 'X', 'V', 'U', 'Q', 'N', 'M', 'K', 'J', 'H', 'G', 'F']\n",
    "\n",
    "#get last two digits from last year for the following loop\n",
    "currentTimeDate = datetime.now() - relativedelta(years=1)\n",
    "currentTime = int(currentTimeDate.strftime('%y'))\n",
    "\n",
    "#this loop appends to the months list for the number of years input by the user\n",
    "for j in range (0,years):\n",
    "    for i in range(len(codes)):\n",
    "        year = currentTime - j\n",
    "        months.append(codes[i]+str(year))\n",
    "\n",
    "#this function grabs the url and data needed from the web page; requires two parameters\n",
    "def getData(product, month):\n",
    "    url = f'https://www.barchart.com/futures/quotes/{product}{month}' #define url to scrape with a page tag\n",
    "    r = requests.get(url, headers=headers) #get the url\n",
    "    soup = BeautifulSoup(r.text, 'html.parser') #read the url page and create a soup object\n",
    "    data = soup.find('div', {'class': 'page-title symbol-header-info'})['data-ng-init']\n",
    "    data = data[data.find('{'):data.rfind('}')+1]\n",
    "    data = json.loads(data)\n",
    "    settlement = {'CONTRACT' : data['symbol'], 'SETTLE' : float(data['lastPrice'].strip('s')), 'SETTLE DATE' : datetime.strptime(data['tradeTime'],'%m/%d/%y')}\n",
    "    historical.append(settlement)\n",
    "    return historical\n",
    "\n",
    "#this loop iterates over all the contracts that are elements in the months list created earlier\n",
    "for x in months: \n",
    "    getData(product,x)\n",
    "\n",
    "#creates a dataframe with the historical settle prices   \n",
    "df = pd.DataFrame(historical)\n",
    "\n",
    "#saves the file as an excel sheet in the current directory this script is being run from\n",
    "df.to_excel(f'{product}pricing.xlsx',sheet_name=product)"
   ]
  },
  {
   "cell_type": "code",
   "execution_count": null,
   "metadata": {},
   "outputs": [],
   "source": []
  }
 ],
 "metadata": {
  "kernelspec": {
   "display_name": "Python 3",
   "language": "python",
   "name": "python3"
  },
  "language_info": {
   "codemirror_mode": {
    "name": "ipython",
    "version": 3
   },
   "file_extension": ".py",
   "mimetype": "text/x-python",
   "name": "python",
   "nbconvert_exporter": "python",
   "pygments_lexer": "ipython3",
   "version": "3.8.3"
  }
 },
 "nbformat": 4,
 "nbformat_minor": 4
}
